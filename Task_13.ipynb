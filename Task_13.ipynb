{
 "cells": [
  {
   "cell_type": "code",
   "execution_count": 1,
   "id": "0b6dd25c-962c-4f41-b0de-587abbd2f513",
   "metadata": {},
   "outputs": [
    {
     "name": "stderr",
     "output_type": "stream",
     "text": [
      "2025-01-19 00:55:23.662928: E external/local_xla/xla/stream_executor/cuda/cuda_dnn.cc:9261] Unable to register cuDNN factory: Attempting to register factory for plugin cuDNN when one has already been registered\n",
      "2025-01-19 00:55:23.662997: E external/local_xla/xla/stream_executor/cuda/cuda_fft.cc:607] Unable to register cuFFT factory: Attempting to register factory for plugin cuFFT when one has already been registered\n",
      "2025-01-19 00:55:23.664285: E external/local_xla/xla/stream_executor/cuda/cuda_blas.cc:1515] Unable to register cuBLAS factory: Attempting to register factory for plugin cuBLAS when one has already been registered\n",
      "2025-01-19 00:55:23.672050: I tensorflow/core/platform/cpu_feature_guard.cc:182] This TensorFlow binary is optimized to use available CPU instructions in performance-critical operations.\n",
      "To enable the following instructions: AVX2 FMA, in other operations, rebuild TensorFlow with the appropriate compiler flags.\n",
      "pybullet build time: Nov 28 2023 23:48:36\n"
     ]
    }
   ],
   "source": [
    "from stable_baselines3 import PPO\n",
    "from ot2_gym_wrapper_2 import OT2Env\n",
    "import numpy as np"
   ]
  },
  {
   "cell_type": "code",
   "execution_count": null,
   "id": "54baa48e-b2ca-4007-ad0b-b03e9245ad47",
   "metadata": {},
   "outputs": [],
   "source": [
    "# Initialise the simulation environment\n",
    "num_agents = 1\n",
    "env = OT2Env(render=True)\n",
    "obs, info = env.reset()"
   ]
  },
  {
   "cell_type": "code",
   "execution_count": null,
   "id": "35a0df33-599c-456b-9fed-c7813a3d79e5",
   "metadata": {},
   "outputs": [],
   "source": [
    "image_path = sim.get_plate_image()"
   ]
  },
  {
   "cell_type": "code",
   "execution_count": null,
   "id": "4454cd62-b3f9-4bdd-8013-d645f73eab3b",
   "metadata": {},
   "outputs": [],
   "source": [
    "### \n",
    "# \n",
    "#\n",
    "#\n",
    "# Do all the CV things so that you end up with a list of goal positions\n",
    "#\n",
    "#\n",
    "#\n",
    "###\n"
   ]
  },
  {
   "cell_type": "code",
   "execution_count": null,
   "id": "15ea7e7d-6ffe-40b9-add9-cc0b1e8a6f0e",
   "metadata": {},
   "outputs": [],
   "source": [
    "# Load the trained agent\n",
    "model = PPO.load(\"your trained RL model\")\n",
    "\n",
    "for goal_pos in goal_positions:\n",
    "    # Set the goal position for the robot\n",
    "    env.goal_position = root_pos\n",
    "    # Run the control algorithm until the robot reaches the goal position\n",
    "    while True:\n",
    "        action, _states = model.predict(obs, deterministic=True)\n",
    "        obs, rewards, terminated, truncated, info  = env.step(action)\n",
    "        # calculate the distance between the pipette and the goal\n",
    "        distance = obs[3:] - obs[:3] # goal position - pipette position\n",
    "        # calculate the error between the pipette and the goal\n",
    "        error = np.linalg.norm(distance)\n",
    "        # Drop the inoculum if the robot is within the required error\n",
    "        if error < 0.01: # 10mm is used as an example here it is too large for the real use case\n",
    "            action = np.array([0, 0, 0, 1])\n",
    "            obs, rewards, terminated, truncated, info  = env.step(action)\n",
    "            break\n",
    "\n",
    "        if terminated:\n",
    "            obs, info = env.reset()\n"
   ]
  }
 ],
 "metadata": {
  "kernelspec": {
   "display_name": "Python 3 (ipykernel)",
   "language": "python",
   "name": "python3"
  },
  "language_info": {
   "codemirror_mode": {
    "name": "ipython",
    "version": 3
   },
   "file_extension": ".py",
   "mimetype": "text/x-python",
   "name": "python",
   "nbconvert_exporter": "python",
   "pygments_lexer": "ipython3",
   "version": "3.11.0rc1"
  }
 },
 "nbformat": 4,
 "nbformat_minor": 5
}
