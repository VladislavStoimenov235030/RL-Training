{
 "cells": [
  {
   "cell_type": "markdown",
   "metadata": {},
   "source": [
    "## Task 9 - Simulation Environment"
   ]
  },
  {
   "cell_type": "markdown",
   "metadata": {},
   "source": [
    "### Axis Limits Calculation\n",
    "\n",
    "The first step in this notebook determines the maximum and minimum values of the robot's working envelope along the X, Y, and Z axes.\n",
    "The method involves:\n",
    "- Iterating through each joint of the robot.\n",
    "- Setting extreme values for the joint positions.\n",
    "- Recording the pipette's position at each extreme.\n",
    "\n",
    "The calculated values are then used to define the working envelope.\n"
   ]
  },
  {
   "cell_type": "code",
   "execution_count": 1,
   "metadata": {},
   "outputs": [
    {
     "name": "stdout",
     "output_type": "stream",
     "text": [
      "Axis limits: {'x': (-1.927, 2.073), 'y': (-1.9105, 2.0895), 'z': (-1.8805, 2.1195)}\n"
     ]
    }
   ],
   "source": [
    "# Import the required libraries\n",
    "from sim_class import Simulation\n",
    "import pybullet as p\n",
    "\n",
    "# Initialize the simulation with 1 robot\n",
    "sim = Simulation(num_agents=1, render=False)\n",
    "\n",
    "# Define a function to test the axis limits of the pipette\n",
    "def test_axis_limits(sim):\n",
    "    # Get the ID of the first robot in the simulation\n",
    "    robot_id = sim.robotIds[0]  \n",
    "    # Dictionary to store axis limits for X, Y, and Z\n",
    "    axis_limits = {\"x\": [], \"y\": [], \"z\": []}\n",
    "\n",
    "    # Test each joint by setting it to extreme values\n",
    "    for joint_index in range(3): # Loop over 3 joints representing X, Y and Z\n",
    "        for extreme_value in [-2, 2]:  # Test extreme values\n",
    "            # Set the joint state to the extreme value\n",
    "            p.resetJointState(robot_id, joint_index, targetValue=extreme_value)\n",
    "            # Get the pipette position after applying the joint state\n",
    "            pipette_position = sim.get_pipette_position(robot_id)\n",
    "            # Append the pipette's X, Y, Z positions to the respective axis lists\n",
    "            axis_limits[\"x\"].append(pipette_position[0])\n",
    "            axis_limits[\"y\"].append(pipette_position[1])\n",
    "            axis_limits[\"z\"].append(pipette_position[2])\n",
    "\n",
    "    # Get the min and max values for each axis\n",
    "    axis_limits = {axis: (min(values), max(values)) for axis, values in axis_limits.items()}\n",
    "    return axis_limits\n",
    "\n",
    "# Run the test\n",
    "limits = test_axis_limits(sim)\n",
    "print(\"Axis limits:\", limits)\n",
    "\n",
    "# Close the simulation\n",
    "sim.close()"
   ]
  },
  {
   "cell_type": "markdown",
   "metadata": {},
   "source": [
    "### Moving the Pipette to the Corners of the Working Envelope\n",
    "\n",
    "After determining the working envelope, this section moves the pipette to all 8 corners of the envelope.\n",
    "\n",
    "Steps:\n",
    "1. The corners are defined by combining the min and max values of X, Y, and Z.\n",
    "2. The pipette moves to each corner in sequence, logging its state after reaching each position.\n",
    "3. The simulation runs for 100 steps at each corner to ensure the movement is completed."
   ]
  },
  {
   "cell_type": "code",
   "execution_count": 3,
   "metadata": {},
   "outputs": [
    {
     "name": "stdout",
     "output_type": "stream",
     "text": [
      "Moving to corner 1: X=-1.927, Y=-1.9105, Z=-1.8805\n",
      "State at corner 1: {'robotId_1': {'joint_states': {'joint_0': {'position': 0.2600024813558601, 'velocity': -0.00021561056528457122, 'reaction_forces': (0.0, 0.0, 0.0, 0.0, 0.0, 0.0), 'motor_torque': 500.00000000000006}, 'joint_1': {'position': 0.2600519610390076, 'velocity': -0.003551240236439791, 'reaction_forces': (0.0, 0.0, 0.0, 0.0, 0.0, 0.0), 'motor_torque': 500.00000000000006}, 'joint_2': {'position': 8.578800652256448e-05, 'velocity': 0.00038479773542643924, 'reaction_forces': (0.0, 0.0, 0.0, 0.0, 0.0, 0.0), 'motor_torque': -800.0}}, 'robot_position': [-0.26000107846934223, -0.2600620780677207, 0.030074771190964446], 'pipette_position': [-0.187, -0.1706, 0.1196]}}\n",
      "Moving to corner 2: X=-1.927, Y=-1.9105, Z=2.1195\n",
      "State at corner 2: {'robotId_1': {'joint_states': {'joint_0': {'position': 0.26000036678948396, 'velocity': -3.029514199102178e-05, 'reaction_forces': (0.0, 0.0, 0.0, 0.0, 0.0, 0.0), 'motor_torque': 500.00000000000006}, 'joint_1': {'position': 0.2600381922702716, 'velocity': -0.002296988681854347, 'reaction_forces': (0.0, 0.0, 0.0, 0.0, 0.0, 0.0), 'motor_torque': 500.00000000000006}, 'joint_2': {'position': 0.17039271577929366, 'velocity': -0.023562946757619052, 'reaction_forces': (0.0, 0.0, 0.0, 0.0, 0.0, 0.0), 'motor_torque': 800.0}}, 'robot_position': [-0.2600010710370061, -0.2600381562369456, 0.2003926584967173], 'pipette_position': [-0.187, -0.1705, 0.2899]}}\n",
      "Moving to corner 3: X=-1.927, Y=2.0895, Z=-1.8805\n",
      "State at corner 3: {'robotId_1': {'joint_states': {'joint_0': {'position': 0.26000433090864117, 'velocity': -0.0004948237428197038, 'reaction_forces': (0.0, 0.0, 0.0, 0.0, 0.0, 0.0), 'motor_torque': 500.00000000000006}, 'joint_1': {'position': -0.13004499544467282, 'velocity': 0.002876201974218416, 'reaction_forces': (0.0, 0.0, 0.0, 0.0, 0.0, 0.0), 'motor_torque': -500.00000000000006}, 'joint_2': {'position': 0.049732079014462076, 'velocity': 0.016494205030707143, 'reaction_forces': (0.0, 0.0, 0.0, 0.0, 0.0, 0.0), 'motor_torque': -800.0}}, 'robot_position': [-0.26000557215319364, 0.13004582255721073, 0.07972711687529897], 'pipette_position': [-0.187, 0.2195, 0.1692]}}\n",
      "Moving to corner 4: X=-1.927, Y=2.0895, Z=2.1195\n",
      "State at corner 4: {'robotId_1': {'joint_states': {'joint_0': {'position': 0.2600054631117295, 'velocity': -0.000836501910630419, 'reaction_forces': (0.0, 0.0, 0.0, 0.0, 0.0, 0.0), 'motor_torque': 500.00000000000006}, 'joint_1': {'position': -0.13007260291175074, 'velocity': 0.004475948580457651, 'reaction_forces': (0.0, 0.0, 0.0, 0.0, 0.0, 0.0), 'motor_torque': -500.00000000000006}, 'joint_2': {'position': 0.17000666558294333, 'velocity': 6.215865827829521e-06, 'reaction_forces': (0.0, 0.0, 0.0, 0.0, 0.0, 0.0), 'motor_torque': 800.0}}, 'robot_position': [-0.26000916600639534, 0.13007279264757413, 0.2000018991234393], 'pipette_position': [-0.187, 0.2196, 0.2895]}}\n",
      "Moving to corner 5: X=2.073, Y=-1.9105, Z=-1.8805\n",
      "State at corner 5: {'robotId_1': {'joint_states': {'joint_0': {'position': -0.18000540629500392, 'velocity': 0.0008306756434570212, 'reaction_forces': (0.0, 0.0, 0.0, 0.0, 0.0, 0.0), 'motor_torque': -500.00000000000006}, 'joint_1': {'position': 0.26004716226231495, 'velocity': -0.0028372520423225345, 'reaction_forces': (0.0, 0.0, 0.0, 0.0, 0.0, 0.0), 'motor_torque': 500.00000000000006}, 'joint_2': {'position': 0.04957824120355147, 'velocity': 0.025800967182932684, 'reaction_forces': (0.0, 0.0, 0.0, 0.0, 0.0, 0.0), 'motor_torque': -800.0}}, 'robot_position': [0.18001001495054317, -0.2600480600539975, 0.07957063854578648], 'pipette_position': [0.253, -0.1705, 0.1691]}}\n",
      "Moving to corner 6: X=2.073, Y=-1.9105, Z=2.1195\n",
      "State at corner 6: {'robotId_1': {'joint_states': {'joint_0': {'position': -0.18005684281126394, 'velocity': 0.00376183607971226, 'reaction_forces': (0.0, 0.0, 0.0, 0.0, 0.0, 0.0), 'motor_torque': -500.00000000000006}, 'joint_1': {'position': 0.26000179465677703, 'velocity': 0.00010216521240453632, 'reaction_forces': (0.0, 0.0, 0.0, 0.0, 0.0, 0.0), 'motor_torque': 500.00000000000006}, 'joint_2': {'position': 0.1700041840464104, 'velocity': 9.053953478556127e-06, 'reaction_forces': (0.0, 0.0, 0.0, 0.0, 0.0, 0.0), 'motor_torque': 800.0}}, 'robot_position': [0.18005981397676338, -0.2600018913809266, 0.1999992653203618], 'pipette_position': [0.2531, -0.1705, 0.2895]}}\n",
      "Moving to corner 7: X=2.073, Y=2.0895, Z=-1.8805\n",
      "State at corner 7: {'robotId_1': {'joint_states': {'joint_0': {'position': -0.18002929966947284, 'velocity': 0.0018697950099374966, 'reaction_forces': (0.0, 0.0, 0.0, 0.0, 0.0, 0.0), 'motor_torque': -500.00000000000006}, 'joint_1': {'position': -0.1300259136101878, 'velocity': 0.0018685787503262999, 'reaction_forces': (0.0, 0.0, 0.0, 0.0, 0.0, 0.0), 'motor_torque': -500.00000000000006}, 'joint_2': {'position': 0.049787297306179576, 'velocity': 0.013194529832177306, 'reaction_forces': (0.0, 0.0, 0.0, 0.0, 0.0, 0.0), 'motor_torque': -800.0}}, 'robot_position': [0.1800292768986487, 0.1300279000426661, 0.07978244502679288], 'pipette_position': [0.253, 0.2195, 0.1693]}}\n",
      "Moving to corner 8: X=2.073, Y=2.0895, Z=2.1195\n",
      "State at corner 8: {'robotId_1': {'joint_states': {'joint_0': {'position': -0.18004193923774203, 'velocity': 0.0029506754001996606, 'reaction_forces': (0.0, 0.0, 0.0, 0.0, 0.0, 0.0), 'motor_torque': -500.00000000000006}, 'joint_1': {'position': -0.13044374680090587, 'velocity': 0.026880641919630105, 'reaction_forces': (0.0, 0.0, 0.0, 0.0, 0.0, 0.0), 'motor_torque': -500.00000000000006}, 'joint_2': {'position': 0.17000703280252655, 'velocity': -1.9973492760065055e-05, 'reaction_forces': (0.0, 0.0, 0.0, 0.0, 0.0, 0.0), 'motor_torque': 800.0}}, 'robot_position': [0.18004573394789927, 0.1304443713978639, 0.2000023443325826], 'pipette_position': [0.253, 0.2199, 0.2895]}}\n"
     ]
    }
   ],
   "source": [
    "# Initialize the simulation\n",
    "sim = Simulation(num_agents=1, render=True)  # Render enabled for visualization\n",
    "\n",
    "# Define the working envelope axis limits we got from the code above\n",
    "x_limits = [-1.927, 2.073]\n",
    "y_limits = [-1.9105, 2.0895]\n",
    "z_limits = [-1.8805, 2.1195]\n",
    "\n",
    "# Define the 8 corners of the envelope\n",
    "corners = [\n",
    "    (x, y, z)\n",
    "    for x in x_limits\n",
    "    for y in y_limits\n",
    "    for z in z_limits\n",
    "]\n",
    "\n",
    "# Move to each corner using actions\n",
    "for i, corner in enumerate(corners):\n",
    "    x, y, z = corner\n",
    "    print(f\"Moving to corner {i + 1}: X={x}, Y={y}, Z={z}\")\n",
    "    \n",
    "    # Define actions based on corner coordinates, no drop command\n",
    "    actions = [[x, y, z, 0]]\n",
    "\n",
    "    # Run the simulation with the defined action\n",
    "    sim.run(actions, num_steps=100)\n",
    "    \n",
    "    # Log the pipette state\n",
    "    states = sim.get_states()\n",
    "    print(f\"State at corner {i + 1}: {states}\")\n",
    "\n",
    "# Close the simulation after moving to all corners\n",
    "sim.close()"
   ]
  }
 ],
 "metadata": {
  "kernelspec": {
   "display_name": "block_b2-gpu",
   "language": "python",
   "name": "python3"
  },
  "language_info": {
   "codemirror_mode": {
    "name": "ipython",
    "version": 3
   },
   "file_extension": ".py",
   "mimetype": "text/x-python",
   "name": "python",
   "nbconvert_exporter": "python",
   "pygments_lexer": "ipython3",
   "version": "3.9.20"
  }
 },
 "nbformat": 4,
 "nbformat_minor": 2
}
